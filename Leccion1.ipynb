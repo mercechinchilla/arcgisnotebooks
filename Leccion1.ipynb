{
 "cells": [
  {
   "cell_type": "markdown",
   "metadata": {},
   "source": [
    "# Lección 1 "
   ]
  },
  {
   "cell_type": "markdown",
   "metadata": {},
   "source": [
    "Esta lección corresponde a una introducción básica sobre Jupyter Notebooks. Le brindaremos recomendaciones básicas sobre como utilizar la herramienta, así como hacer un \"Hello World\" equivalente in la API de ArcGIS for Python."
   ]
  },
  {
   "cell_type": "markdown",
   "metadata": {},
   "source": [
    "## Ocultar contraseña"
   ]
  },
  {
   "cell_type": "markdown",
   "metadata": {},
   "source": [
    "Como primer paso para el tutorial, he ocultado la contraseña utilizando la libreria getpass. Esto para no mostrar mis datos personales en el video tutorial\n",
    "\n",
    "Ayuda: Como ocultar las contraseñas https://docs.python.org/2/library/getpass.html"
   ]
  },
  {
   "cell_type": "code",
   "execution_count": 4,
   "metadata": {},
   "outputs": [],
   "source": [
    "import getpass"
   ]
  },
  {
   "cell_type": "code",
   "execution_count": 5,
   "metadata": {},
   "outputs": [
    {
     "name": "stdout",
     "output_type": "stream",
     "text": [
      "Enter your password········\n"
     ]
    }
   ],
   "source": [
    "password = getpass.getpass('Enter your password')"
   ]
  },
  {
   "cell_type": "markdown",
   "metadata": {},
   "source": [
    "# Qué es el modulo GIS?"
   ]
  },
  {
   "cell_type": "markdown",
   "metadata": {},
   "source": [
    "SIG es el objeto más importante cuando se trabaja con la API de ArcGIS para Python. El objeto SIG representa el SIG en línea con el que está trabajando, ya sea ArcGIS Online o un Portal for ArcGIS. Utiliza el objeto SIG para consumir y publicar contenido SIG y los administradores pueden usarlo para administrar usuarios, grupos y almacenes de datos SIG. El objeto SIG también incluye una serie de herramientas, incluidas herramientas de análisis espacial, herramientas de análisis de big data, herramientas de análisis de ráster, así como servicios auxiliares como geocodificación y geometría para ayudar en sus flujos de trabajo."
   ]
  },
  {
   "cell_type": "markdown",
   "metadata": {},
   "source": [
    "# Recomendaciones"
   ]
  },
  {
   "cell_type": "markdown",
   "metadata": {},
   "source": [
    "1-No poner no todo el codigo en una celda\n",
    "La primera diferencia de Jupyter Notebook con el IDE tradicional de Python, es que el código se divide en secciones llamadas celdas.\n",
    "\n",
    "2-Hay diferentes tipos de celdas.\n",
    "A-Las lineas de comentarios se llaman \"Markdown\", son utiles para documentar y agregar notas de ayuda como el clásico \"Leer\" o indicar las descripciones del código.\n",
    "B-Las celdas de tipo \"Code\" sirven para escribir el código y ejecutar los objetos, modulos o funciones.\n",
    "C-Las celdas \"Heading\" sirven para mostrar titulos en el Jupyter Notebook\n",
    "\n",
    "3-Ejecutar las celdas (shift + enter).\n",
    "Al segmentar las celdas se debe utilizar el comando shift + enter para ejecutar la secuencia para todo el proceso, ya que si solo utiliza la funcion run, se ejecutará la celda individual. "
   ]
  },
  {
   "cell_type": "markdown",
   "metadata": {},
   "source": [
    "# Hello World en API for Python for ArcGIS"
   ]
  },
  {
   "cell_type": "code",
   "execution_count": 6,
   "metadata": {},
   "outputs": [
    {
     "name": "stdout",
     "output_type": "stream",
     "text": [
      "GIS @ https://geotec.maps.arcgis.com version:7.3\n"
     ]
    }
   ],
   "source": [
    "from arcgis.gis import GIS\n",
    "gis = GIS('https://geotec.maps.arcgis.com', 'mercechinchilla', password)\n",
    "groups = gis.groups.search('*', max_groups=15)\n",
    "print (gis)"
   ]
  },
  {
   "cell_type": "code",
   "execution_count": 7,
   "metadata": {
    "scrolled": true
   },
   "outputs": [
    {
     "name": "stdout",
     "output_type": "stream",
     "text": [
      "[<Group title:\"A\" owner:SDamazzio>, <Group title:\"Apps\" owner:mercechinchilla>, <Group title:\"Atención de Emergencias\" owner:kfallas>, <Group title:\"Avaluos\" owner:mercechinchilla>, <Group title:\"Basemap Gallery\" owner:lvargas>, <Group title:\"borrar\" owner:fiorodmar>, <Group title:\"CITCGG\" owner:srodriguez>, <Group title:\"CNFL Circuitos Secundarios\" owner:kabarca>, <Group title:\"CoBas_Mobil\" owner:nmolina82>, <Group title:\"COCOSA_DEMO\" owner:kabarca>, <Group title:\"Contenido de Esri Salud\" owner:jermaine3186>, <Group title:\"Contenido Destacado Costa Rica\" owner:demos_geotec>, <Group title:\"Contenido Destacado Nicaragua\" owner:demos_geotec>, <Group title:\"Control de Horas ICE, edición\" owner:jermaine3186>, <Group title:\"Control de Horas ICE, visores\" owner:jermaine3186>]\n"
     ]
    }
   ],
   "source": [
    "print (groups)"
   ]
  },
  {
   "cell_type": "code",
   "execution_count": 8,
   "metadata": {},
   "outputs": [],
   "source": [
    "user= gis.users.get('mercechinchilla')"
   ]
  },
  {
   "cell_type": "code",
   "execution_count": 9,
   "metadata": {},
   "outputs": [
    {
     "data": {
      "text/html": [
       "<div class=\"9item_container\" style=\"height: auto; overflow: hidden; border: 1px solid #cfcfcf; border-radius: 2px; background: #f6fafa; line-height: 1.21429em; padding: 10px;\">\n",
       "                    <div class=\"item_left\" style=\"width: 210px; float: left;\">\n",
       "                       <a href='https://geotec.maps.arcgis.com/home/user.html?user=mercechinchilla' target='_blank'>\n",
       "                        <img src='data:image/png;base64,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' width='200' height='133' class=\"itemThumbnail\">\n",
       "                       </a>\n",
       "                    </div>\n",
       "\n",
       "                    <div class=\"item_right\" style=\"float: none; width: auto; overflow: hidden;\">\n",
       "                        <a href='https://geotec.maps.arcgis.com/home/user.html?user=mercechinchilla' target='_blank'><b>Mercedes Chinchilla</b>\n",
       "                        </a>\n",
       "                        <br/><br/><b>Bio</b>: \n",
       "                        <br/><b>First Name</b>: Mercedes\n",
       "                        <br/><b>Last Name</b>: Chinchilla\n",
       "                        <br/><b>Username</b>: mercechinchilla\n",
       "                        <br/><b>Joined</b>: July 20, 2012\n",
       "\n",
       "                    </div>\n",
       "                </div>\n",
       "                "
      ],
      "text/plain": [
       "<User username:mercechinchilla>"
      ]
     },
     "execution_count": 9,
     "metadata": {},
     "output_type": "execute_result"
    }
   ],
   "source": [
    "user"
   ]
  },
  {
   "cell_type": "code",
   "execution_count": 10,
   "metadata": {},
   "outputs": [
    {
     "data": {
      "text/plain": [
       "'Mercedes'"
      ]
     },
     "execution_count": 10,
     "metadata": {},
     "output_type": "execute_result"
    }
   ],
   "source": [
    "user['firstName']"
   ]
  },
  {
   "cell_type": "code",
   "execution_count": 11,
   "metadata": {},
   "outputs": [],
   "source": [
    "mygis = GIS()"
   ]
  },
  {
   "cell_type": "code",
   "execution_count": 12,
   "metadata": {},
   "outputs": [
    {
     "data": {
      "application/vnd.jupyter.widget-view+json": {
       "model_id": "a858257ea8904fcf9beb026a878f6b83",
       "version_major": 2,
       "version_minor": 0
      },
      "text/plain": [
       "MapView(layout=Layout(height='400px', width='100%'))"
      ]
     },
     "metadata": {},
     "output_type": "display_data"
    },
    {
     "data": {
      "text/html": [
       "<div class=\"map-static-img-preview-b7f89799-6d07-4ec4-8777-6d3e09cac864\"><img src=\"\"></img></div>"
      ],
      "text/plain": [
       "<IPython.core.display.HTML object>"
      ]
     },
     "metadata": {},
     "output_type": "display_data"
    }
   ],
   "source": [
    "mygis.map()"
   ]
  },
  {
   "cell_type": "code",
   "execution_count": 13,
   "metadata": {},
   "outputs": [],
   "source": [
    "GIS?"
   ]
  },
  {
   "cell_type": "code",
   "execution_count": 14,
   "metadata": {},
   "outputs": [],
   "source": [
    "map = gis.map(\"Palm Springs, CA\", zoomlevel=12)"
   ]
  },
  {
   "cell_type": "code",
   "execution_count": 15,
   "metadata": {},
   "outputs": [
    {
     "data": {
      "application/vnd.jupyter.widget-view+json": {
       "model_id": "8682b086ff9d464eb982132a90912b15",
       "version_major": 2,
       "version_minor": 0
      },
      "text/plain": [
       "MapView(layout=Layout(height='400px', width='100%'), zoom=12.0)"
      ]
     },
     "metadata": {},
     "output_type": "display_data"
    },
    {
     "data": {
      "text/html": [
       "<div class=\"map-static-img-preview-2e4dd999-8710-46ca-871b-baebfebf046f\"><img src=\"\"></img></div>"
      ],
      "text/plain": [
       "<IPython.core.display.HTML object>"
      ]
     },
     "metadata": {},
     "output_type": "display_data"
    }
   ],
   "source": [
    "map"
   ]
  },
  {
   "cell_type": "code",
   "execution_count": 16,
   "metadata": {},
   "outputs": [
    {
     "data": {
      "text/html": [
       "<div class=\"item_container\" style=\"height: auto; overflow: hidden; border: 1px solid #cfcfcf; border-radius: 2px; background: #f6fafa; line-height: 1.21429em; padding: 10px;\">\n",
       "                    <div class=\"item_left\" style=\"width: 210px; float: left;\">\n",
       "                       <a href='https://geotec.maps.arcgis.com/home/item.html?id=806dc7a1946c473681441b8f78e1413b' target='_blank'>\n",
       "                        <img src='data:image/png;base64,/9j/4AAQSkZJRgABAQEADAAMAAD/2wBDAAgGBgcGBQgHBwcJCQgKDBQNDAsLDBkSEw8UHRofHh0aHBwgJC4nICIsIxwcKDcpLDAxNDQ0Hyc5PTgyPC4zNDL/2wBDAQkJCQwLDBgNDRgyIRwhMjIyMjIyMjIyMjIyMjIyMjIyMjIyMjIyMjIyMjIyMjIyMjIyMjIyMjIyMjIyMjIyMjL/wAARCACFAMgDAREAAhEBAxEB/8QAHwAAAQUBAQEBAQEAAAAAAAAAAAECAwQFBgcICQoL/8QAtRAAAgEDAwIEAwUFBAQAAAF9AQIDAAQRBRIhMUEGE1FhByJxFDKBkaEII0KxwRVS0fAkM2JyggkKFhcYGRolJicoKSo0NTY3ODk6Q0RFRkdISUpTVFVWV1hZWmNkZWZnaGlqc3R1dnd4eXqDhIWGh4iJipKTlJWWl5iZmqKjpKWmp6ipqrKztLW2t7i5usLDxMXGx8jJytLT1NXW19jZ2uHi4+Tl5ufo6erx8vP09fb3+Pn6/8QAHwEAAwEBAQEBAQEBAQAAAAAAAAECAwQFBgcICQoL/8QAtREAAgECBAQDBAcFBAQAAQJ3AAECAxEEBSExBhJBUQdhcRMiMoEIFEKRobHBCSMzUvAVYnLRChYkNOEl8RcYGRomJygpKjU2Nzg5OkNERUZHSElKU1RVVldYWVpjZGVmZ2hpanN0dXZ3eHl6goOEhYaHiImKkpOUlZaXmJmaoqOkpaanqKmqsrO0tba3uLm6wsPExcbHyMnK0tPU1dbX2Nna4uPk5ebn6Onq8vP09fb3+Pn6/9oADAMBAAIRAxEAPwD3+gAoAKACgAoAKACgAoAKACgAoAKAKuo2Q1CzaDzXifIeOVDhkdTkEfiOR3GQeDQA3TLxr+wjmkj8qYEpNHkkJIpKsASBkZBwe4we9AFygAoAKACgAoAKACgAoAKACgAoAKACgAoAKACgAoAKACgAoAKACgCsbiSRmW2iDhW2s7ttXPcDgkkfl78VzOtObapRvZ2bbsvO292vkul7pmDqSk2qavbq9v8Ag/l5gIrpDlbkSZ6rIgx+GMY/HPSmqdaLup39V+VrW+d9u+oclWOqlf1X5W2/Ezs6jZXlxcxaetzBOA7xwTAOJAAvAfapyAOSw+6OOaWGrTqpykkleys27233S67Prub66XQ067cXE1tbWenXSXMkgEy3cDosC7GYneAVfkKvyscFh9K6QLH9pz2chXVbeOCI/duYnLxf8DyBsP1yP9rPFAGmWC4yQMnAz3oACQOpAzxQAtABQAUAQXl9aadbm4vbqC2gUgGWaQIoJ6cnigCi/iGzjQSGDUWQsVDR6fO+cdxtQnHoeh7UAKmrT3L7bPSrx0wf306iBMg424fD599mD60AS22qxS3jWU8b212F3iKT+JckZVhw3ToDkZGQM0AX6ACgAoAKACgAoAKACgAoAKAELBRliAPU0m0tWJtLVlfTsnTbYk5Zo1ZjnOSRkn865sE28NTb3aTfq1r+Jjhv4MX5IkeUpIF2Er3I5x/9alPFclVw5XZJNvte/wDl0va6uranSo3VxYGDQIR0xijA8qw8IQ2iuX/wHT9AluSV1kiMqupVgCpGCCOCKAM1fDuji3W3bTbeSBV2rFKm9FGMYCtkAY9KAIJfCulMgEMLW7oytFJE3zQBSDtjzkRqdoBCgD8eaAHmz12CGNbfVbaZlj2k3VoSXOMBso6455PHPQbaAHC91OaBIFsRBekYkkf54IjjqDkFxnsMH120AOj0q6G4y63fysTnpEoX2AVBx9cn3oAktdGsLScXCQB7kbsXExMknzHLYZskA+gwOgxgCgC/QAUARXFtBdxeVcRJKmc4YZwexHofegCWgAoAKACgAoAKACgAoAb5ieb5e9fMxu255x649KL9B8rtzW0HUCKl1HcSXFuIhH5StvkLjPQjAHPoW/KuWvGtKpBQtyrV3+Wi17X77HPWjUlOPLay1d/69S3XUdAxciVhzgjOT/n2ripc0MTOnq00pXfd6WX3ddtO5T2THKqquFAA9AK64wjBWirIkWqAKACgAoAKACgAoAKACgAoAKACgAoAKACgAoAKAI554raF5ppFjjQZZmPAoAr2N+18ZGFjdwQgAxy3CBPNB9FJ3rj/AGlWgBYfOFxIbiKHeXKxPGDny+oBJ78HgcVxVMU4V1R5dXbXpZ3690ot2N58rilBu3W/fy8i3XaYBQAUARyNtdNq7mJx+HeuatyqrTf2tV8rXfy0T9bLqUtmSV0khQAUAFABQAUAFABQAUAFABQAUAFABQAUAFABQAUAVZ9Pt7m+trucM722TEhPyKx434/vYyAewJxjJyAWqAGMf3qD6muSrNfWKcP8T+6yv+NvmUtmPrrJCgAoAiUNJLvZdoTIUZ5PqTXLDnqVnNv3Vol56Xbf4JL1bd1anorEtdRIUAFABQAUAFABQAUAFABQAUAFABQAUAFABQAUAFABQAUANdAw9xyD6VhiKEa0bPRrVPs+/wDn3V09GNOxBbXsVzJPEpHmQuUde4/yCD+NFGq53jNWkv6TXk/+BuTzxcuVPVFmtxjXcIMnvwAOprOrWhSjzT9O/wCC1/q+w0riRAgMxBBZiTn9P0xWGDouEZTlvNtv8kvlFJPzQ5O4+uskKACgAoAKACgAoAKACgAoAKACgAoAKACgAoAKACgAoAKAMzWb+806K3mtbSK4jadI5t8pQorEKCMKc8kdcAdSQMkAGZFd2/8AwkKfftLi9GXhZR5kcyrg7sZBDIqjIOPkXBywrKpSU2pJ2a6/mvR9TOdPmaadmjooJDJEC2N44bHqKdOTlG73CnJyjd7hLkLvUAsvP4d/0rLEx91VFvF3/Rrpum7dnZ9DaPYkroTurokKYBQAUAFABQAUAFABQAUAFABQAUAFABQAUAFADZJI4ULyOqIOrMcAUAKCGAIIIPIIoAz59csILhoPMllkRtsgt4HmER44coCFPIODjjnpzQBk634iu49NdrDTNSG/Zi5a0YhQWG792P3gYISQSm3OM9xQBUltfFdtpKWM9xFqs17H5MkkkQCwMSoLHaEymzzGwecgLk5oA6iGyUw2ZvFjubq2UbZ2jGQ+3DMv93PPT1oAdalW851OVaU859MA/qDWFBqXNKPVv8NP0MaNnzSXV/8AA/QmcbkYDqRitKkVKDi+psihZavBe6pe6dHHMJrJImlZkwpMgJAU9yAOfqPes8NPnowk+qX5DlozRrcQUAFABQAUAFABQAUAFABQAUAFABQAUAIzKilmICgZJJ4AoAxxrlxPKxsNJuLy13iNbmOWNUbgEsNzAlBnGRk5B49QB1poibxcagz3NwJ3nVZJWkjjYk7SgbgEKdvAA68cnIA4eGtIRmaCyW2ZiCxtWaDdgk4OwjIyScdDk+poA0La1gsraO2tYY4YI12pHGoVVHoAKAJaACgCG6kaOH5CquzBAzdAScZ/+t36VjXnKEPdaTdlrtq7f0ur0Mq0nGOm70+8fDEsMKRLkqihRk5PFXTgqcFBbLQuEFCKiug+rKMe30VLbxTdatBJ5f2q3WO4hCjEjKTscnGdwBZevTH4cmHtTnOltrdej1b/APAr/h3KequbFdZIUAFABQAUAFABQAUAFACFlDBSwDHJAzyaAFoAKACgAoAydemQQWlp50aTXV3CqK5++FcO4A7/ACK1AGtQAUAFABQAUAFADXRJEZHUMjDBUjINTKMZxcZK6YpRUlaSuiEWcQ4LSsBnAMrHH6//AKqyWGgur+9/5/d26GSoR7v72YXiiHWLaxt7nRpnkltrhZfs8kpUTAAjyycEsGzgZ/iKnPFTrQau7xemvTotd3d97u73J1pNa3i9Nenb+n95o6Zqttrll5kDGO5jVfOhbiS3kKg7HHYjPIp4mh7WHuu0ls7tWfy6d1t3TOmLsaIc5AdcE9MHINTTrzUlCtHlb2s7p+Sdk7211S8r2Y2uqH11EhQAUAFABQAUAU9S1KPTYFZkeaaVvLgt4sF5n/urnjoCSTwACSQATQBW+x6nfDF/dJbQkfNBYswY8HIMxw2OeNqoeOvagCG40BLe3WXTATfxOjxS3lxJKSAeULsWYAqXHfG7ODigCUeILaOVYbq2v7eY5BBs5XQHn/loqlO3HNAEUl5c6y0UOmve2UPLz3Ulo0UigcBUWZMZJ5JKkAA92BABt0AI7rGjO7BUUZZicAD1oA5wXlxq3iS1uNLWCSxtosPeC4JWRJDkqqBCGP7tCG3DH0OCAdJQAUAFABQAUAFABQAUANljEsTxtkBgQSDg1M4KcXF9SZxUouL6nG69pGp6Zff8JBoi2327di5hVSgvl4Co/ON3XDY4OB0Jrn9pVpNe1s03a60tdpK6137/AIGPPUpte0s13X3I64O72iyPE0chQMY8glWx0yOOKMbf6vJx3SuvJ9H1/J6dHsdUdyVSSik4yRzjpXUiRaACgAoAKAM7W7ia304eROLeSWaKATFQ3l73VMgHgn5sDORkjIPQgD7XSbW1uTdfvJrogjz53LuAcZC54UHAyFwDjOM0AXqACgAoAKAMqTWftOY9HiF9LvCtKGxBHyQxMnQkYPyrls4BAByABYtFjlbztUkF/OdpIkXEKFTkFIySF55zy3Tk4FAGpQAUAFABQAUAFABQAUAFABQBFcRGaBkXAbgqSOAwOR+oFZVqfPBxW/T1Wq/Ezqw54NLf9eg6KTzYUfaVLDJU9QfSqpz54qVrXKhLmipDOA4EXQnkD7vv+NefB06dRRwmt3ql8K11d9k12Wre63a11a94mr0yAoAKACgDF1O8gv54tLtpHllFzGZ/JQsIgjByrtjapOAMEgkNxQBtUAFABQAUAFACKqooVQAoGAAOAKAFoAKACgAoAKACgAoAKACgAoAKACgCoMwbopAfKdjtkGPlyeh/EnHaub4Lwl8Lvr2v079dGYRbpOz2vo/XoybzPK4k4XOA3b2rKFT6unGrpFbPS1vltbu0l2Om19hxkUOE5LEZwBmt6mIhBqO7fZX/AC2XmxJMcrBhkHiqo1oVoc8Hdf1o+zXVPVA01uLWojJ1mR55rTSYZpYXvCzSSQvtdIUALFT2JJRMjBG/IIIFAGjbW0FnAsFtEkUQJIVBgZJyT9SSST3JJoAloAKACgAoAKACgAoAKACgAoAKACgAoAKACgAoAKACgBGUOpVhkEYIpNJqzE0mrMrM8kC+W8TzptIDKMk+xBPX36euKwc50tHFyXdfk9d/PbvYx5p09Gm13X6/57d7DhJ5bFnt3Qf3hhgB+HI/lUU4QoyclC1+u+17LySu+llqU60vtxdvvHK8crMYnXzFHP8ATI9OKHCnKbnStz9fNdL9bdn06FwqxnomUdS1210wwo4MlxLIqLboy+YQWVSwBIyBuH51rRrxqp23WjXVP+tu61Whbi0QaFHeyXeo3eo2xjlecpBIWHzQD7oC4yoGTkHJLZPQgDYRt0AFABQAUAFABQAUAFABQAUAFABQAUAFABQAUAFABQAUAFABQAUARS28c2C4ORwGVip/Mc1nUpRqfF+Daf3rUznSjPf/AC/Io3e3T43ne9jhhICb53wVJICgMevJ4BycnrXJPCVE70p2duur8teq9bvXRolRqQ0i7rs/8/8AP7yvHpzazZCe+uL9FnxItvvMHlDgqMKA3YHDEnJII7DspqSilN3fXobFfU9AtDp17caldy3flQFoZbkoDa7NzB0ZQu1hn72QcKOepNgb1uzvaxPJjeyAtj1xQBLQAUAFABQAUAFABQAUAFABQAUAFABQAUAFABQAUAFABQAUAUtXv/7K0S/1HyvN+yW8k/l7tu/apbGcHGcdaAK2l6fu8vU72X7VfSorByu1IRt+7GmTtHJycljnkkYAANagCK6to7y1ltpc+XKpVsHBwfQ0AVtGuJbvRLG5nbdLLAju2MZJAyeKAL1ABQAUAFAH/9k=' width='200' height='133' class=\"itemThumbnail\">\n",
       "                       </a>\n",
       "                    </div>\n",
       "\n",
       "                    <div class=\"item_right\"     style=\"float: none; width: auto; overflow: hidden;\">\n",
       "                        <a href='https://geotec.maps.arcgis.com/home/item.html?id=806dc7a1946c473681441b8f78e1413b' target='_blank'><b>Loop7Victor_WFL</b>\n",
       "                        </a>\n",
       "                        <br/>Victor Loop Trail<img src='https://geotec.maps.arcgis.com/home/js/jsapi/esri/css/images/item_type_icons/featureshosted16.png' style=\"vertical-align:middle;\">Feature Layer Collection by kgrahamACBCI\n",
       "                        <br/>Last Modified: febrero 28, 2018\n",
       "                        <br/>0 comments, 20,767 views\n",
       "                    </div>\n",
       "                </div>\n",
       "                "
      ],
      "text/plain": [
       "<Item title:\"Loop7Victor_WFL\" type:Feature Layer Collection owner:kgrahamACBCI>"
      ]
     },
     "metadata": {},
     "output_type": "display_data"
    },
    {
     "data": {
      "text/html": [
       "<div class=\"item_container\" style=\"height: auto; overflow: hidden; border: 1px solid #cfcfcf; border-radius: 2px; background: #f6fafa; line-height: 1.21429em; padding: 10px;\">\n",
       "                    <div class=\"item_left\" style=\"width: 210px; float: left;\">\n",
       "                       <a href='https://geotec.maps.arcgis.com/home/item.html?id=6e23512f88fc4d7d91f6f7c1625dbe55' target='_blank'>\n",
       "                        <img src='data:image/png;base64,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' width='200' height='133' class=\"itemThumbnail\">\n",
       "                       </a>\n",
       "                    </div>\n",
       "\n",
       "                    <div class=\"item_right\"     style=\"float: none; width: auto; overflow: hidden;\">\n",
       "                        <a href='https://geotec.maps.arcgis.com/home/item.html?id=6e23512f88fc4d7d91f6f7c1625dbe55' target='_blank'><b>Loop5EastFork_WFL</b>\n",
       "                        </a>\n",
       "                        <br/>East Fork Loop<img src='https://geotec.maps.arcgis.com/home/js/jsapi/esri/css/images/item_type_icons/featureshosted16.png' style=\"vertical-align:middle;\">Feature Layer Collection by kgrahamACBCI\n",
       "                        <br/>Last Modified: febrero 28, 2018\n",
       "                        <br/>0 comments, 6,211 views\n",
       "                    </div>\n",
       "                </div>\n",
       "                "
      ],
      "text/plain": [
       "<Item title:\"Loop5EastFork_WFL\" type:Feature Layer Collection owner:kgrahamACBCI>"
      ]
     },
     "metadata": {},
     "output_type": "display_data"
    },
    {
     "data": {
      "text/html": [
       "<div class=\"item_container\" style=\"height: auto; overflow: hidden; border: 1px solid #cfcfcf; border-radius: 2px; background: #f6fafa; line-height: 1.21429em; padding: 10px;\">\n",
       "                    <div class=\"item_left\" style=\"width: 210px; float: left;\">\n",
       "                       <a href='https://geotec.maps.arcgis.com/home/item.html?id=780e49f2e5084e91b517e597474a341b' target='_blank'>\n",
       "                        <img src='data:image/png;base64,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' width='200' height='133' class=\"itemThumbnail\">\n",
       "                       </a>\n",
       "                    </div>\n",
       "\n",
       "                    <div class=\"item_right\"     style=\"float: none; width: auto; overflow: hidden;\">\n",
       "                        <a href='https://geotec.maps.arcgis.com/home/item.html?id=780e49f2e5084e91b517e597474a341b' target='_blank'><b>Loop2WestFork_WFL</b>\n",
       "                        </a>\n",
       "                        <br/>West Fork Loop<img src='https://geotec.maps.arcgis.com/home/js/jsapi/esri/css/images/item_type_icons/featureshosted16.png' style=\"vertical-align:middle;\">Feature Layer Collection by kgrahamACBCI\n",
       "                        <br/>Last Modified: febrero 28, 2018\n",
       "                        <br/>0 comments, 5,836 views\n",
       "                    </div>\n",
       "                </div>\n",
       "                "
      ],
      "text/plain": [
       "<Item title:\"Loop2WestFork_WFL\" type:Feature Layer Collection owner:kgrahamACBCI>"
      ]
     },
     "metadata": {},
     "output_type": "display_data"
    }
   ],
   "source": [
    "from IPython.display import display\n",
    "items = gis.content.search('Palm Springs Trails', item_type= \"Feature Layer\", outside_org= True)\n",
    "for item in items [:3]:\n",
    "    display(item)"
   ]
  },
  {
   "cell_type": "code",
   "execution_count": 17,
   "metadata": {},
   "outputs": [],
   "source": [
    "map.add_layer(items[1].layers[0])"
   ]
  },
  {
   "cell_type": "code",
   "execution_count": 18,
   "metadata": {},
   "outputs": [
    {
     "data": {
      "application/vnd.jupyter.widget-view+json": {
       "model_id": "8682b086ff9d464eb982132a90912b15",
       "version_major": 2,
       "version_minor": 0
      },
      "text/plain": [
       "MapView(jupyter_target='notebook', layout=Layout(height='400px', width='100%'), ready=True, zoom=12.0)"
      ]
     },
     "metadata": {},
     "output_type": "display_data"
    },
    {
     "data": {
      "text/html": [
       "<div class=\"map-static-img-preview-2e4dd999-8710-46ca-871b-baebfebf046f\"><img src=\"\"></img></div>"
      ],
      "text/plain": [
       "<IPython.core.display.HTML object>"
      ]
     },
     "metadata": {},
     "output_type": "display_data"
    }
   ],
   "source": [
    "map"
   ]
  }
 ],
 "metadata": {
  "kernelspec": {
   "display_name": "Python 3",
   "language": "python",
   "name": "python3"
  },
  "language_info": {
   "codemirror_mode": {
    "name": "ipython",
    "version": 3
   },
   "file_extension": ".py",
   "mimetype": "text/x-python",
   "name": "python",
   "nbconvert_exporter": "python",
   "pygments_lexer": "ipython3",
   "version": "3.6.9"
  }
 },
 "nbformat": 4,
 "nbformat_minor": 2
}
